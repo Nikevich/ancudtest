{
 "cells": [
  {
   "cell_type": "markdown",
   "metadata": {},
   "source": [
    "Подгружаем библиотеки"
   ]
  },
  {
   "cell_type": "code",
   "execution_count": 1,
   "metadata": {},
   "outputs": [],
   "source": [
    "import json\n",
    "import logging\n",
    "import matplotlib.pyplot as plt\n",
    "import drawFunctions as df"
   ]
  },
  {
   "cell_type": "markdown",
   "metadata": {},
   "source": [
    "Создаем логирование"
   ]
  },
  {
   "cell_type": "code",
   "execution_count": 2,
   "metadata": {},
   "outputs": [],
   "source": [
    "logging.basicConfig(level=logging.INFO, \n",
    "                    filename=\"main_logs.log\", \n",
    "                    format=\"%(asctime)s %(levelname)s %(message)s\",\n",
    "                    filemode=\"w\")\n",
    "logging.info(\"Program started, libs imported\")"
   ]
  },
  {
   "cell_type": "markdown",
   "metadata": {},
   "source": [
    "Определяем функции"
   ]
  },
  {
   "cell_type": "code",
   "execution_count": 3,
   "metadata": {},
   "outputs": [],
   "source": [
    "# Функция для определения формы фигуры\n",
    "def drawShape(shape_data):\n",
    "    shape_type = shape_data.get('type')\n",
    "    shape_type = shape_type.title()\n",
    "    draw_figure_name = 'draw' + shape_type\n",
    "\n",
    "    if hasattr(df, draw_figure_name)and callable(getattr(df, draw_figure_name)):\n",
    "        try:\n",
    "            draw_func_name = getattr(df, draw_figure_name)\n",
    "            draw_func_name(shape_data)\n",
    "        except Exception as e:\n",
    "            logging.error(f\"Error in draw shape: {e}\")\n",
    "            return"
   ]
  },
  {
   "cell_type": "markdown",
   "metadata": {},
   "source": [
    "Основная часть с выполнением задачи"
   ]
  },
  {
   "cell_type": "code",
   "execution_count": 6,
   "metadata": {},
   "outputs": [
    {
     "data": {
      "image/png": "[encoded data removed]",
      "text/plain": [
       "<Figure size 640x480 with 1 Axes>"
      ]
     },
     "metadata": {},
     "output_type": "display_data"
    }
   ],
   "source": [
    "def main():\n",
    "\n",
    "    # Открытие файла и вытаскиваение данных\n",
    "    file_name = 'shapes.json'\n",
    "    try:\n",
    "        with open(file_name) as f:\n",
    "            data = json.load(f)\n",
    "    except FileNotFoundError:\n",
    "        logging.error(f\"File {file_name} not found!\")\n",
    "        return\n",
    "    except json.JSONDecodeError:\n",
    "        logging.error(f\"Error decoding JSON file {file_name}\")\n",
    "        return\n",
    "    except Exception as e:\n",
    "        logging.error(f\"Error in open file {file_name}. Exception is {e}\")\n",
    "        return\n",
    "    logging.info(\"File loaded\")\n",
    "\n",
    "    # Создание нового объекта фигуры\n",
    "    plt.figure()\n",
    "\n",
    "    # Отрисовка фигуры\n",
    "    shape_data = data.get('shapes', [])\n",
    "    if not shape_data: # Проверяем наличие списка фигур, если нет, фиксируем шибку и завершаем пограмму\n",
    "        logging.error(f\"No shapes in data\")\n",
    "        return\n",
    "    \n",
    "    for shape_data in data['shapes']: # Цикл проходит по всему shapes и отрабатывает все фигуры, даже если их будет 10 - 20 программа отрисует все\n",
    "        try:\n",
    "            drawShape(shape_data)\n",
    "        except Exception as e:\n",
    "            logging.error(f\"Build shape exception: {e} in {shape_data.get('type')}\")\n",
    "            continue\n",
    "\n",
    "    try:\n",
    "        plt.axis('equal')\n",
    "        plt.gca().set_aspect('equal', adjustable='box')\n",
    "        plt.grid(True)\n",
    "        plt.title('График с фигурами')\n",
    "        plt.xlabel('ось X')\n",
    "        plt.ylabel('ось Y')\n",
    "        plt.show()\n",
    "\n",
    "        logging.info(\"Program finished successfully\")\n",
    "    except Exception as e:\n",
    "        logging.error(f\"Drawing shape exception: {e}\")\n",
    "        return\n",
    "    \n",
    "if __name__ == \"__main__\":\n",
    "    main()"
   ]
  }
 ],
 "metadata": {
  "kernelspec": {
   "display_name": "Python 3",
   "language": "python",
   "name": "python3"
  },
  "language_info": {
   "codemirror_mode": {
    "name": "ipython",
    "version": 3
   },
   "file_extension": ".py",
   "mimetype": "text/x-python",
   "name": "python",
   "nbconvert_exporter": "python",
   "pygments_lexer": "ipython3",
   "version": "3.10.12"
  }
 },
 "nbformat": 4,
 "nbformat_minor": 2
}
